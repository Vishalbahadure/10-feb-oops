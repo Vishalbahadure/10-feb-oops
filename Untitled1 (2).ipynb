{
 "cells": [
  {
   "cell_type": "markdown",
   "id": "17856180-6336-4e62-85f5-04643ad3dd02",
   "metadata": {},
   "source": [
    "Q1. Which function is used to open a file? What are the different modes of opening a file? Explain each mode\n",
    "of file opening.\n",
    "In Python, the open() function is used to open a file. It takes two parameters: the file path and the mode in which the file should be opened. There are several modes for opening a file:\n",
    "\n",
    "'r': Opens a file for reading only. The file pointer is placed at the beginning of the file.\n",
    "'w': Opens a file for writing. If the file already exists, it truncates the file to zero length. If the file does not exist, it creates a new file for writing.\n",
    "'a': Opens a file for appending. The file pointer is at the end of the file if the file exists. If the file does not exist, it creates a new file for writing.\n",
    "'r+': Opens a file for both reading and writing.\n",
    "'w+': Opens a file for both writing and reading. It truncates the file to zero length if it exists, or creates a new file if it does not exist.\n",
    "'a+': Opens a file for both reading and appending."
   ]
  },
  {
   "cell_type": "markdown",
   "id": "20630b68-3d9a-48e5-8e46-3173ac0db611",
   "metadata": {},
   "source": [
    "Q2. Why close() function is used? Why is it important to close a file?\n",
    "In Python, the close() function is used to close a file after it has been opened for reading or writing. It is essential to close files to release system resources and ensure that all data is written to the file. Failing to close a file can lead to data loss, memory leaks, or issues with file locking. By closing files properly, you prevent these potential problems and maintain the integrity of your data and system resources. Remember, always close your files using the close() function to adhere to best practices in file handling in Python"
   ]
  },
  {
   "cell_type": "markdown",
   "id": "abf41bb5-87bf-412e-9229-31f1828e857a",
   "metadata": {},
   "source": [
    "Q3. Write a python program to create a text file. Write ‘I want to become a Data Scientist’ in that file. Then\n",
    "close the file. Open this file and read the content of the file.\n",
    "\n",
    "with open('data_scientist.txt', 'w') as file:\n",
    "    file.write('I want to become a Data Scientist')\n",
    "\n",
    "with open('data_scientist.txt', 'r') as file:\n",
    "    content = file.read()\n",
    "    print(content)\n"
   ]
  },
  {
   "cell_type": "markdown",
   "id": "a06dd9df-d3e5-4a63-831e-ba2afbcb6d6e",
   "metadata": {},
   "source": [
    "Q4. Explain the following with python code: read(), readline() and readlines().\n",
    "In Python, read() is used to read the entire content of a file as a single string. It reads the file from the current position or from the beginning if no size is specified.\n",
    "\n",
    "readline() reads a single line from the file each time it is called. It moves the file pointer to the next line after reading.\n",
    "\n",
    "readlines() reads all lines of a file and returns a list where each element is a line from the file. It reads until the end of the file or until it reaches the specified size if provided.\n",
    "\n",
    "For example\n",
    "with open('example.txt', 'r') as file:\n",
    "    content = file.read()\n",
    "    print(content)\n",
    "\n",
    "\n",
    "with open('example.txt', 'r') as file:\n",
    "    line = file.readline()\n",
    "    while line:\n",
    "        print(line)\n",
    "        line = file.readline()\n",
    "\n",
    "\n",
    "with open('example.txt', 'r') as file:\n",
    "    lines = file.readlines()\n",
    "    for line in lines:\n",
    "        print(line)\n"
   ]
  },
  {
   "cell_type": "markdown",
   "id": "847df5b2-b750-4dea-ae4c-abe5da8042cd",
   "metadata": {},
   "source": [
    "Q5. Explain why with statement is used with open(). What is the advantage of using with statement and\n",
    "open() together?\n",
    "The with statement in Python is used with the open() function to ensure proper handling of resources like files. When you use with open(), it automatically handles opening and closing the file, even if an error occurs during file operations. This mechanism guarantees that the file is closed correctly after its suite finishes, regardless of exceptions.\n",
    "\n",
    "By combining with and open(), you simplify resource management, enhance readability, and reduce the risk of resource leaks. This approach is more concise and ensures that your code follows best practices for file handling in Python.\n",
    "\n"
   ]
  },
  {
   "cell_type": "markdown",
   "id": "3e84f0cf-fcb9-4d25-abbf-6639160aa289",
   "metadata": {},
   "source": [
    "Q6. Explain the write() and writelines() functions. Give a suitable example.\n",
    "In Python, the write() function is used to write a string to a file. It takes a string as an argument and writes it to the file. If the file does not exist, it will be created. If the file already exists, the content will be overwritten. Here is an example:\n",
    "\n",
    "with open('example.txt', 'w') as file:\n",
    "    file.write('Hello, World!')\n",
    "    \n",
    "    \n"
   ]
  }
 ],
 "metadata": {
  "kernelspec": {
   "display_name": "Python 3 (ipykernel)",
   "language": "python",
   "name": "python3"
  },
  "language_info": {
   "codemirror_mode": {
    "name": "ipython",
    "version": 3
   },
   "file_extension": ".py",
   "mimetype": "text/x-python",
   "name": "python",
   "nbconvert_exporter": "python",
   "pygments_lexer": "ipython3",
   "version": "3.10.8"
  }
 },
 "nbformat": 4,
 "nbformat_minor": 5
}
